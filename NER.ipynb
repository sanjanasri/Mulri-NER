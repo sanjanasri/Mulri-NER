{
 "cells": [
  {
   "cell_type": "code",
   "execution_count": 59,
   "id": "290202da",
   "metadata": {},
   "outputs": [],
   "source": [
    "import spacy\n",
    "\n",
    "def multilanNER(text, lang):\n",
    "\n",
    "    if lang != \"xx\":\n",
    "      print(\"Model does not exist\") \n",
    "    else:\n",
    "      NER = spacy.load(\"xx_ent_wiki_sm\")\n",
    "      doc = NER(text)\n",
    "      data=[]\n",
    "      for t in doc.ents:\n",
    "        \n",
    "         data .append({'Text': t.text, 'Type': t.label_, 'Start_pos': text.find(t.text), 'end_pos': text.rfind(t.text[-1])})\n",
    "                                                                                                  \n",
    "      return data\n",
    "   "
   ]
  },
  {
   "cell_type": "code",
   "execution_count": 60,
   "id": "4b0773fd",
   "metadata": {},
   "outputs": [],
   "source": [
    "d= multilanNER(\"ISRO is at Delhi\", \"xx\")"
   ]
  }
 ],
 "metadata": {
  "kernelspec": {
   "display_name": "Python 3 (ipykernel)",
   "language": "python",
   "name": "python3"
  },
  "language_info": {
   "codemirror_mode": {
    "name": "ipython",
    "version": 3
   },
   "file_extension": ".py",
   "mimetype": "text/x-python",
   "name": "python",
   "nbconvert_exporter": "python",
   "pygments_lexer": "ipython3",
   "version": "3.8.8"
  }
 },
 "nbformat": 4,
 "nbformat_minor": 5
}
